{
 "cells": [
  {
   "cell_type": "code",
   "execution_count": 6,
   "metadata": {},
   "outputs": [
    {
     "name": "stdout",
     "output_type": "stream",
     "text": [
      "平均P波振幅: 555.90 mV\n",
      "平均R波振幅: 1203.78 mV\n",
      "平均T波振幅: 219.87 mV\n",
      "情绪状态: 1\n"
     ]
    }
   ],
   "source": [
    "import pandas as pd\n",
    "import numpy as np\n",
    "from scipy.signal import find_peaks\n",
    "import json\n",
    "\n",
    "# 读取CSV文件\n",
    "df = pd.read_csv('ecg_data.csv')\n",
    "\n",
    "# 假设ECG数据在'ECG'列中\n",
    "ecg_signal = df['ECG'].values\n",
    "\n",
    "# 找到R波（R波是ECG信号中最明显的峰值）\n",
    "r_peaks, _ = find_peaks(ecg_signal, height=0.5 * np.max(ecg_signal), distance=100)\n",
    "\n",
    "# 找到P波和T波（P波在R波之前，T波在R波之后）\n",
    "p_peaks = []\n",
    "t_peaks = []\n",
    "\n",
    "for r_peak in r_peaks:\n",
    "    # P波在R波之前50-100个采样点\n",
    "    p_window = ecg_signal[max(0, r_peak - 100):r_peak - 50]\n",
    "    if len(p_window) > 0:\n",
    "        p_peak = np.argmax(p_window) + max(0, r_peak - 100)\n",
    "        p_peaks.append(p_peak)\n",
    "    \n",
    "    # T波在R波之后50-150个采样点\n",
    "    t_window = ecg_signal[r_peak + 50:min(len(ecg_signal), r_peak + 150)]\n",
    "    if len(t_window) > 0:\n",
    "        t_peak = np.argmax(t_window) + r_peak + 50\n",
    "        t_peaks.append(t_peak)\n",
    "\n",
    "# 计算P波、R波和T波的振幅\n",
    "p_amplitudes = ecg_signal[p_peaks]\n",
    "r_amplitudes = ecg_signal[r_peaks]\n",
    "t_amplitudes = ecg_signal[t_peaks]\n",
    "\n",
    "# 计算平均振幅\n",
    "avg_p_amplitude = np.mean(p_amplitudes)\n",
    "avg_r_amplitude = np.mean(r_amplitudes)\n",
    "avg_t_amplitude = np.mean(t_amplitudes)\n",
    "\n",
    "# 根据条件判断情绪状态\n",
    "if avg_p_amplitude < 0.25 and avg_t_amplitude > 0.1 * avg_r_amplitude:\n",
    "    emotion_state = \"0\"   #正常\n",
    "elif avg_p_amplitude > 0.25 and avg_t_amplitude > 0.1 * avg_r_amplitude:\n",
    "    emotion_state = \"1\"   #情绪激动\n",
    "elif avg_p_amplitude < 0.25 and avg_t_amplitude < 0.1 * avg_r_amplitude:\n",
    "    emotion_state = \"2\"   #情绪焦虑抑郁等情感障碍\n",
    "else:\n",
    "    emotion_state = \"3\"   #无法判断\n",
    "\n",
    "# 输出结果\n",
    "print(f\"平均P波振幅: {avg_p_amplitude:.2f} mV\")\n",
    "print(f\"平均R波振幅: {avg_r_amplitude:.2f} mV\")\n",
    "print(f\"平均T波振幅: {avg_t_amplitude:.2f} mV\")\n",
    "print(f\"情绪状态: {emotion_state}\")\n",
    "\n",
    "result = {\n",
    "    \"avg_p_amplitude\": avg_p_amplitude,\n",
    "    \"avg_r_amplitude\": avg_r_amplitude,\n",
    "    \"avg_t_amplitude\": avg_t_amplitude,\n",
    "    \"emotion_state\": emotion_state,\n",
    "}\n",
    "\n",
    "with open(\"emotion_result.json\", \"w\") as f:\n",
    "    json.dump(result, f)"
   ]
  }
 ],
 "metadata": {
  "kernelspec": {
   "display_name": "dl",
   "language": "python",
   "name": "python3"
  },
  "language_info": {
   "codemirror_mode": {
    "name": "ipython",
    "version": 3
   },
   "file_extension": ".py",
   "mimetype": "text/x-python",
   "name": "python",
   "nbconvert_exporter": "python",
   "pygments_lexer": "ipython3",
   "version": "3.8.18"
  }
 },
 "nbformat": 4,
 "nbformat_minor": 2
}
